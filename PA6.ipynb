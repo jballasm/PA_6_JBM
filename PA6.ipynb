{
 "cells": [
  {
   "cell_type": "markdown",
   "id": "0d572579",
   "metadata": {},
   "source": [
    "# Assignment 6\n",
    "## Juan Ballas\n",
    "\n",
    "### Version 1\n",
    "### Fall 2023"
   ]
  },
  {
   "cell_type": "markdown",
   "id": "15ca4ec8",
   "metadata": {},
   "source": [
    "## Task1\n",
    "- Write a Python program will calculate the area and perimeter of a triangle using two different functions named calcArea() and calcPerimeter().\n",
    "- Your program should prompt the user for the length of three sides of the triangle. Each function should take the lengths of the sides as arguments and return the output of their respective calculations.\n",
    "- As an added feature, set the default values of your parameters to 1 so if you call either function without parameters, it will still produce output) (I recommend using Heron’s Method for calculating the area of a triangle.)"
   ]
  },
  {
   "cell_type": "code",
   "execution_count": 35,
   "id": "57d0e372",
   "metadata": {},
   "outputs": [
    {
     "name": "stdout",
     "output_type": "stream",
     "text": [
      "Enter the length of side a: 3\n",
      "Enter the length of side b: 4\n",
      "Enter the length of side c: 5\n",
      "The area of the triangle is  6.0 square units.\n",
      "The perimeter of the triangle is 12 linear units.\n"
     ]
    }
   ],
   "source": [
    "import math\n",
    "def calcArea(a,b,c):\n",
    "    s=(a+b+c)/2\n",
    "    area= math.sqrt(s*(s-a)*(s-b)*(s-c))\n",
    "    return area\n",
    "\n",
    "def calcPerimeter(a,b,c):\n",
    "    return a+b+c\n",
    "\n",
    "a=int(input('Enter the length of side a: '))\n",
    "b=int(input('Enter the length of side b: '))\n",
    "c=int(input('Enter the length of side c: '))\n",
    "\n",
    "area=calcArea(a,b,c)\n",
    "print('The area of the triangle is ', area, 'square units.')\n",
    "\n",
    "perimeter=calcPerimeter(a,b,c)\n",
    "print('The perimeter of the triangle is', perimeter, 'linear units.')"
   ]
  },
  {
   "cell_type": "markdown",
   "id": "bfc322ea",
   "metadata": {},
   "source": [
    "### Task2\n",
    "- Write a Python program to play “Guess the Number”.\n",
    "- Your program should generate a random number between 1 and 1000 and then prompt the user for a guess.\n",
    "- Possible responses to the guess should be ‘Too high! Guess again’, ‘Too low! Guess again’, and ‘Correct!’."
   ]
  },
  {
   "cell_type": "code",
   "execution_count": 34,
   "id": "a5969e7c",
   "metadata": {},
   "outputs": [
    {
     "name": "stdout",
     "output_type": "stream",
     "text": [
      "Guess a number between 1 and 1000: 3\n",
      "Too low!\n",
      "Guess a number between 1 and 1000: 100\n",
      "Too low!\n",
      "Guess a number between 1 and 1000: 500\n",
      "Too low!\n",
      "Guess a number between 1 and 1000: 700\n",
      "Too low!\n",
      "Guess a number between 1 and 1000: 800\n",
      "Too low!\n",
      "Guess a number between 1 and 1000: 900\n",
      "Too high!\n",
      "Guess a number between 1 and 1000: 850\n",
      "Too low!\n",
      "Guess a number between 1 and 1000: 875\n",
      "Too high!\n",
      "Guess a number between 1 and 1000: 860\n",
      "Too low!\n",
      "Guess a number between 1 and 1000: 865\n",
      "Too low!\n",
      "Guess a number between 1 and 1000: 870\n",
      "Too low!\n",
      "Guess a number between 1 and 1000: 873\n",
      "Too high!\n",
      "Guess a number between 1 and 1000: 872\n",
      "You guessed the correct number!\n"
     ]
    }
   ],
   "source": [
    "import random\n",
    "random_number= random.randint(1,1000)\n",
    "entered_number= None\n",
    "\n",
    "time=0\n",
    "\n",
    "while entered_number != random_number:\n",
    "    entered_number= int(input('Guess a number between 1 and 1000: '))\n",
    "    if entered_number==random_number:\n",
    "        print(f'You guessed the correct number!')\n",
    "    elif entered_number>random_number:\n",
    "        print('Too high!')\n",
    "    elif entered_number<random_number:\n",
    "        print('Too low!')\n",
    "    else:\n",
    "        print('Try again')"
   ]
  },
  {
   "cell_type": "markdown",
   "id": "df359685",
   "metadata": {},
   "source": [
    "## Task3\n",
    "- Write a Python program to calculate the mean temperature over a set of Fahrenheit temperature values.\n",
    "- Your program should calculate the mean in a function called meanTemp()and then print message that indicates the number of days your mean represents and the mean (see below).\n",
    "- Your function should be flexible so that you can pass any number of temperatures to it. You do not need to get input from the user; simply include the temperatures in the function parameter list. "
   ]
  },
  {
   "cell_type": "code",
   "execution_count": 39,
   "id": "7ac0ec91",
   "metadata": {},
   "outputs": [],
   "source": [
    "def meanTemp(temps):\n",
    "    total=0\n",
    "    days=0\n",
    "    \n",
    "    for i in temps:\n",
    "        days+=1\n",
    "        total+=i\n",
    "        \n",
    "    meanF=total/days\n",
    "    \n",
    "    return days, meanF"
   ]
  },
  {
   "cell_type": "code",
   "execution_count": 54,
   "id": "e288f59c",
   "metadata": {},
   "outputs": [
    {
     "name": "stdout",
     "output_type": "stream",
     "text": [
      "The mean temperature of the past 8 days is 69.25 degrees F.\n"
     ]
    }
   ],
   "source": [
    "temperatures=[90,76,88,44,52,78,56,70]\n",
    "days, meanF=meanTemp(temperatures)\n",
    "\n",
    "print(f'The mean temperature of the past {days} days is {meanF} degrees F.')"
   ]
  }
 ],
 "metadata": {
  "kernelspec": {
   "display_name": "Python 3 (ipykernel)",
   "language": "python",
   "name": "python3"
  },
  "language_info": {
   "codemirror_mode": {
    "name": "ipython",
    "version": 3
   },
   "file_extension": ".py",
   "mimetype": "text/x-python",
   "name": "python",
   "nbconvert_exporter": "python",
   "pygments_lexer": "ipython3",
   "version": "3.11.4"
  }
 },
 "nbformat": 4,
 "nbformat_minor": 5
}
